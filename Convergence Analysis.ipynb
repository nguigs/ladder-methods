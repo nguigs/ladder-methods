{
 "cells": [
  {
   "cell_type": "markdown",
   "metadata": {},
   "source": [
    "# Convergence Analysis of Ladder Methods for Parallel Transport"
   ]
  },
  {
   "cell_type": "markdown",
   "metadata": {},
   "source": [
    "This is the companion notebook to the paper on ladder methods for the approximate computation of parallel transport on Riemannian manifolds by N. Guigui and X. Pennec"
   ]
  },
  {
   "cell_type": "markdown",
   "metadata": {},
   "source": [
    "## Introduction"
   ]
  },
  {
   "cell_type": "markdown",
   "metadata": {},
   "source": [
    "The scheme consists in building geodesic parallelograms, using the midpoint rule, as one would do in a Euclidean space. This is illustrated below to approximate the parallel transport of the vector $v$ along the geodesic starting from $x$ with initial velocity $w$.\n",
    "\n",
    "<img src='figures/schild_simple_construction.png' width=300>"
   ]
  },
  {
   "cell_type": "markdown",
   "metadata": {},
   "source": [
    "However, in the presence of curvature, we showed that $u^w$ is not exactly the parallel transport of $v$, but there is a deviation, wich can be measured at $x$, letting $u$ the (exact) parallel transport of $u^w$ back to $x$ (along the same geodesic). If $w,v$ are small enough we in fact have\n",
    "\n",
    "$$u = v + \\frac{1}{2} R(w,v)v $$"
   ]
  },
  {
   "cell_type": "markdown",
   "metadata": {},
   "source": [
    "This can then be iterated for any $w$, by choosing an integer $N$ such that $\\frac{w}{N}$ is \"small enough\", to break down the geodesic into $N$ segments where the above construction is valid, this scheme is known as ***Schild's Ladder***.\n",
    "\n",
    "<img src='figures/schild_iterated_construction.png' width=600>"
   ]
  },
  {
   "cell_type": "markdown",
   "metadata": {},
   "source": [
    "But of course, on a flat screen, this is not so exciting, let's instead have a look at this scheme on the sphere! We randomly draw a point $x$ and two orthonormal vectors $v,w$ tangent at $x$."
   ]
  },
  {
   "cell_type": "code",
   "execution_count": 6,
   "metadata": {},
   "outputs": [],
   "source": [
    "import sys\n",
    "sys.path.append('/home/nguigui/PycharmProjects/geomstats2/venv/lib/python3.7/site-packages')\n",
    "sys.path.append('/home/nguigui/PycharmProjects/geomstats2/')"
   ]
  },
  {
   "cell_type": "code",
   "execution_count": 7,
   "metadata": {},
   "outputs": [
    {
     "ename": "AttributeError",
     "evalue": "'Hypersphere' object has no attribute 'to_tangent'",
     "output_type": "error",
     "traceback": [
      "\u001b[0;31m---------------------------------------------------------------------------\u001b[0m",
      "\u001b[0;31mAttributeError\u001b[0m                            Traceback (most recent call last)",
      "\u001b[0;32m<ipython-input-7-2c563ebbef60>\u001b[0m in \u001b[0;36m<module>\u001b[0;34m\u001b[0m\n\u001b[1;32m      5\u001b[0m \u001b[0mx\u001b[0m \u001b[0;34m=\u001b[0m \u001b[0msphere\u001b[0m\u001b[0;34m.\u001b[0m\u001b[0mrandom_uniform\u001b[0m\u001b[0;34m(\u001b[0m\u001b[0;34m)\u001b[0m\u001b[0;34m\u001b[0m\u001b[0;34m\u001b[0m\u001b[0m\n\u001b[1;32m      6\u001b[0m \u001b[0;34m\u001b[0m\u001b[0m\n\u001b[0;32m----> 7\u001b[0;31m \u001b[0mv\u001b[0m\u001b[0;34m,\u001b[0m \u001b[0mw\u001b[0m \u001b[0;34m=\u001b[0m \u001b[0mutils\u001b[0m\u001b[0;34m.\u001b[0m\u001b[0mrandom_orthonormal_sphere\u001b[0m\u001b[0;34m(\u001b[0m\u001b[0mx\u001b[0m\u001b[0;34m)\u001b[0m\u001b[0;34m\u001b[0m\u001b[0;34m\u001b[0m\u001b[0m\n\u001b[0m",
      "\u001b[0;32m/home/nguigui/PycharmProjects/ladder-transport/utils.py\u001b[0m in \u001b[0;36mrandom_orthonormal_sphere\u001b[0;34m(point)\u001b[0m\n\u001b[1;32m     20\u001b[0m \u001b[0;32mdef\u001b[0m \u001b[0mrandom_orthonormal_sphere\u001b[0m\u001b[0;34m(\u001b[0m\u001b[0mpoint\u001b[0m\u001b[0;34m)\u001b[0m\u001b[0;34m:\u001b[0m\u001b[0;34m\u001b[0m\u001b[0;34m\u001b[0m\u001b[0m\n\u001b[1;32m     21\u001b[0m     \u001b[0mtan_b\u001b[0m \u001b[0;34m=\u001b[0m \u001b[0mgs\u001b[0m\u001b[0;34m.\u001b[0m\u001b[0mrandom\u001b[0m\u001b[0;34m.\u001b[0m\u001b[0mrand\u001b[0m\u001b[0;34m(\u001b[0m\u001b[0;36m3\u001b[0m\u001b[0;34m)\u001b[0m\u001b[0;34m\u001b[0m\u001b[0;34m\u001b[0m\u001b[0m\n\u001b[0;32m---> 22\u001b[0;31m     \u001b[0mtan_b\u001b[0m \u001b[0;34m=\u001b[0m \u001b[0mSPHERE\u001b[0m\u001b[0;34m.\u001b[0m\u001b[0mto_tangent\u001b[0m\u001b[0;34m(\u001b[0m\u001b[0mtan_b\u001b[0m\u001b[0;34m,\u001b[0m \u001b[0mpoint\u001b[0m\u001b[0;34m)\u001b[0m\u001b[0;34m\u001b[0m\u001b[0;34m\u001b[0m\u001b[0m\n\u001b[0m\u001b[1;32m     23\u001b[0m     \u001b[0mtan_b\u001b[0m \u001b[0;34m/=\u001b[0m \u001b[0mgs\u001b[0m\u001b[0;34m.\u001b[0m\u001b[0mlinalg\u001b[0m\u001b[0;34m.\u001b[0m\u001b[0mnorm\u001b[0m\u001b[0;34m(\u001b[0m\u001b[0mtan_b\u001b[0m\u001b[0;34m,\u001b[0m \u001b[0maxis\u001b[0m\u001b[0;34m=\u001b[0m\u001b[0;34m-\u001b[0m\u001b[0;36m1\u001b[0m\u001b[0;34m)\u001b[0m\u001b[0;34m\u001b[0m\u001b[0;34m\u001b[0m\u001b[0m\n\u001b[1;32m     24\u001b[0m \u001b[0;34m\u001b[0m\u001b[0m\n",
      "\u001b[0;31mAttributeError\u001b[0m: 'Hypersphere' object has no attribute 'to_tangent'"
     ]
    }
   ],
   "source": [
    "import utils\n",
    "from geomstats.geometry.hypersphere import Hypersphere\n",
    "\n",
    "sphere = Hypersphere(2)\n",
    "x = sphere.random_uniform()\n",
    "\n",
    "v, w = utils.random_orthonormal_sphere(x)"
   ]
  },
  {
   "cell_type": "code",
   "execution_count": null,
   "metadata": {},
   "outputs": [],
   "source": [
    "%matplotlib notebook\n",
    "import matplotlib.pyplot as plt\n",
    "\n",
    "fig = utils.show_schild(v / 2, w * 2, x)\n",
    "fig.show()"
   ]
  },
  {
   "cell_type": "markdown",
   "metadata": {},
   "source": [
    "## Convergence on the Sphere"
   ]
  },
  {
   "cell_type": "markdown",
   "metadata": {},
   "source": [
    "Now from the above formula for $u$, we understand that the error term will add up as we iterate the construction. So in order to ensure that this term goes to $0$ as $N$ goes to infinity, we also scale $v$ by a a factor $\\frac{1}{N^\\alpha}$. We then showed in theorem 2 of the paper that the algorithm the converges with a speed of convergence $\\alpha$ , i.e. the overall error decreases proportionally to $\\frac{1}{N^\\alpha}$. This is exactly what we observe on the sphere below.\n",
    "\n",
    "The exact parallel transport is known and computed in closed-form, to serve as ground truth:"
   ]
  },
  {
   "cell_type": "code",
   "execution_count": null,
   "metadata": {},
   "outputs": [],
   "source": [
    "exact_transport = sphere.metric.parallel_transport(v, w, x)\n",
    "exact_transport_w = sphere.metric.parallel_transport(w, w, x)"
   ]
  },
  {
   "cell_type": "code",
   "execution_count": null,
   "metadata": {},
   "outputs": [],
   "source": [
    "from numpy import logspace\n",
    "\n",
    "n_numbers = 20\n",
    "n_range = [int(k) for k in logspace(1, 2.5, n_numbers)]"
   ]
  },
  {
   "cell_type": "code",
   "execution_count": null,
   "metadata": {},
   "outputs": [],
   "source": [
    "%matplotlib inline\n",
    "import geomstats.backend as gs\n",
    "\n",
    "plt.figure(figsize=(16, 6));\n",
    "ax_abs = plt.subplot(121)\n",
    "ax_long = plt.subplot(122)\n",
    "\n",
    "for alpha, col in zip([1, 1.5, 2], ['r', 'b', 'g']):\n",
    "    abs_error = []\n",
    "    longitudinal_error = []\n",
    "\n",
    "    for n_rungs in n_range:\n",
    "\n",
    "        ladder = sphere.metric.ladder_parallel_transport(\n",
    "            v / n_rungs ** alpha, w, x,\n",
    "            n_rungs=n_rungs, scheme='schild')\n",
    "        transported = ladder['transported_tangent_vec'] * n_rungs ** alpha\n",
    "        \n",
    "        abs_error.append(gs.linalg.norm(transported - exact_transport))\n",
    "        longitudinal_error.append(\n",
    "            sphere.metric.inner_product(transported - exact_transport, exact_transport_w))\n",
    "    \n",
    "    utils.make_plot(ax_abs, abs_error, [1 / k for k in n_range], col=col, label=rf'$\\alpha$={alpha}',\n",
    "                    title='Absolute error w.r.t. the number of iterations', xlabel = r'1 / $N$')\n",
    "    utils.make_plot(\n",
    "        ax_long, longitudinal_error, [1 / k ** alpha for k in n_range], col=col, label=rf'$\\alpha$={alpha}',\n",
    "        xlabel = r'1 / $N^\\alpha$', title=r'Longitudinal error, w.r.t. the number of iterations to the power $\\alpha$')\n",
    "plt.show()"
   ]
  },
  {
   "cell_type": "markdown",
   "metadata": {},
   "source": [
    "## Convergence on the manifold of SPD matrices"
   ]
  },
  {
   "cell_type": "code",
   "execution_count": null,
   "metadata": {},
   "outputs": [],
   "source": [
    "from geomstats.geometry.spd_matrices import SPDMatrices, SPDMetricAffine\n",
    "\n",
    "spd = SPDMatrices(3)\n",
    "metric = SPDMetricAffine(3)\n",
    "point = spd.random_uniform()\n",
    "\n",
    "tan_a, tan_b = utils.random_orthonormal_spd(point)\n",
    "\n",
    "exact_transport = metric.parallel_transport(tan_a, tan_b, point)\n",
    "exact_transport_tan_b = metric.parallel_transport(tan_b, tan_b, point)\n",
    "end_point = metric.exp(tan_b, point)"
   ]
  },
  {
   "cell_type": "code",
   "execution_count": null,
   "metadata": {},
   "outputs": [],
   "source": [
    "plt.figure(figsize=(16, 6));\n",
    "ax_abs = plt.subplot(121)\n",
    "ax_long = plt.subplot(122)\n",
    "for alpha, col in zip([1, 1.5, 2], ['r', 'b', 'g']):\n",
    "    abs_error = []\n",
    "    longitudinal_error = []\n",
    "    \n",
    "    for n_rungs in n_range:\n",
    "\n",
    "        ladder = metric.ladder_parallel_transport(\n",
    "            tan_a / n_rungs ** alpha,\n",
    "            tan_b,\n",
    "            point,\n",
    "            n_rungs=n_rungs,\n",
    "            scheme='schild')\n",
    "        transported = ladder['transported_tangent_vec'] * n_rungs ** alpha\n",
    "        \n",
    "        abs_error.append(metric.norm(transported - exact_transport, point))\n",
    "        longitudinal_error.append(\n",
    "            metric.inner_product(transported - exact_transport, exact_transport_tan_b,\n",
    "                                 end_point))\n",
    "    \n",
    "    utils.make_plot(ax_abs, abs_error, [1 / k for k in n_range], col=col, label=rf'$\\alpha$={alpha}')\n",
    "    utils.make_plot(\n",
    "        ax_long, longitudinal_error, [1 / k ** alpha for k in n_range], col=col, label=rf'$\\alpha$={alpha}',\n",
    "        xlabel = r'1 / $n^2$')\n",
    "plt.show()"
   ]
  },
  {
   "cell_type": "markdown",
   "metadata": {},
   "source": [
    "## Infinitesimal scheme on SE(3)"
   ]
  },
  {
   "cell_type": "code",
   "execution_count": null,
   "metadata": {},
   "outputs": [],
   "source": [
    "from sen_tools.sen import SenTools\n",
    "from geomstats.geometry.special_euclidean import SpecialEuclidean\n",
    "\n",
    "tools = SenTools(3)\n",
    "space = SpecialEuclidean(3)\n",
    "\n",
    "gs.random.seed(0)\n",
    "point = space.random_uniform()\n",
    "\n",
    "n_numbers = 10\n",
    "n_range = [int(k) for k in logspace(1, 2, n_numbers)]"
   ]
  },
  {
   "cell_type": "markdown",
   "metadata": {},
   "source": [
    "### Verification of lemma 1"
   ]
  },
  {
   "cell_type": "markdown",
   "metadata": {},
   "source": [
    "By default $\\beta=1$, i.e, the metric is isotropic and we can verify that the covariant derivative of the curvature is identically zero:"
   ]
  },
  {
   "cell_type": "code",
   "execution_count": null,
   "metadata": {},
   "outputs": [],
   "source": [
    "tools.set_anisotropic_metric(1)\n",
    "is_symmetric = True\n",
    "for x in tools.basis:\n",
    "    for i, y in enumerate(tools.basis[:-1]):\n",
    "        for z in tools.basis[i+1:]:\n",
    "            for t in tools.basis:\n",
    "                if not gs.isclose(tools.nabla_curvature(x, y, z, t), 0).all():\n",
    "                    is_symmetric = False\n",
    "print(is_symmetric)"
   ]
  },
  {
   "cell_type": "markdown",
   "metadata": {},
   "source": [
    "On the other hand, we can set any $\\beta \\neq 1$, here e.g. $\\beta=2$ and verify that there exists vectors $x,y,z,t$ in the Lie algebra for which $\\nabla_x R(y,z)t \\neq 0 $:"
   ]
  },
  {
   "cell_type": "code",
   "execution_count": null,
   "metadata": {},
   "outputs": [],
   "source": [
    "tools.set_anisotropic_metric(2)\n",
    "is_symmetric = True\n",
    "for x in tools.basis:\n",
    "    for i, y in enumerate(tools.basis[:-1]):\n",
    "        for z in tools.basis[i + 1:]:\n",
    "            for t in tools.basis:\n",
    "                if not gs.isclose(tools.nabla_curvature(x, y, z, t), 0).all():\n",
    "                    is_symmetric = False\n",
    "print(is_symmetric)"
   ]
  },
  {
   "cell_type": "markdown",
   "metadata": {},
   "source": [
    "### Convergence Speed of PL"
   ]
  },
  {
   "cell_type": "code",
   "execution_count": null,
   "metadata": {},
   "outputs": [],
   "source": [
    "plt.figure(figsize=(16, 6));\n",
    "ax_abs = plt.subplot(121)\n",
    "ax_straight = plt.subplot(122)\n",
    "for beta, col in zip([1., 1.5],  ['gray', 'r', 'b', 'g']):\n",
    "    tools.set_anisotropic_metric(beta)\n",
    "    \n",
    "    # take orthonormal basis vectors that don't change when changing the metric\n",
    "    tan_a = tools.basis[0]\n",
    "    tan_b = tools.basis[4]\n",
    "    tan_b = space.compose(point, tan_b)\n",
    "    tan_a = space.compose(point, tan_a)\n",
    "\n",
    "    # exact parallel transport\n",
    "    exact_transport, end_point = tools.parallel_transport(tan_a, tan_b, point)\n",
    "    exact_transport_tan_b = tools.log(tools.exp(2 * tan_b, point, n_steps=20), end_point, tol=1e-14, n_steps=20)\n",
    "\n",
    "    abs_error = []\n",
    "    longitudinal_error = []\n",
    "    for n_rungs in n_range:\n",
    "        ladder, end_point = tools.pole_ladder(\n",
    "            tan_a / n_rungs, tan_b, point, n_rungs=n_rungs, step='rk4', n_steps=1, tol=1e-14)\n",
    "        transported = ladder * n_rungs\n",
    "        abs_error.append(tools.norm(transported - exact_transport, end_point))\n",
    "\n",
    "    utils.make_plot(ax_abs, abs_error, [1 / k for k in n_range], col=col, label=rf'$\\beta$={beta}')\n",
    "    utils.make_plot(\n",
    "        ax_straight, abs_error, [1 / k ** 2 for k in n_range], col=col, label=rf'$\\beta$={beta}',\n",
    "        xlabel = r'1 / $n^2$')\n",
    "plt.show()"
   ]
  },
  {
   "cell_type": "markdown",
   "metadata": {},
   "source": [
    "### Comparison with SL"
   ]
  },
  {
   "cell_type": "code",
   "execution_count": null,
   "metadata": {},
   "outputs": [],
   "source": [
    "fig = plt.figure()\n",
    "for beta, col in zip([1, 2.5],  ['r', 'b', 'g']):\n",
    "    tools.set_anisotropic_metric(beta)\n",
    "    tan_a = tools.basis[0]\n",
    "    tan_b = tools.basis[4]\n",
    "    tan_b = space.compose(point, tan_b)\n",
    "    tan_a = space.compose(point, tan_a)\n",
    "\n",
    "    # exact parallel transport\n",
    "    exact_transport, end_point = tools.parallel_transport(tan_a, tan_b, point)\n",
    "    exact_transport_tan_b = tools.log(tools.exp(2 * tan_b, point, n_steps=20), end_point, tol=1e-14, n_steps=20)\n",
    "\n",
    "    abs_error_pole = []\n",
    "    abs_error_schild = []\n",
    "    alpha = 2\n",
    "    for n_rungs in n_range:\n",
    "        ladder, end_point = tools.pole_ladder(\n",
    "            tan_a / n_rungs, tan_b, point, n_rungs=n_rungs, step='rk4', n_steps=1, tol=1e-14)\n",
    "        transported = ladder * n_rungs\n",
    "        abs_error_pole.append(tools.norm(transported - exact_transport, end_point))\n",
    "\n",
    "        ladder, end_point = tools.ladder_parallel_transport(\n",
    "            tan_a / n_rungs ** alpha, tan_b, point, n_rungs=n_rungs, step='rk4', n_steps=1, tol=1e-14, scheme='schild')\n",
    "        transported = ladder * n_rungs ** alpha\n",
    "        abs_error_schild.append(tools.norm(transported - exact_transport, end_point))\n",
    "\n",
    "    regr = LinearRegression(fit_intercept=False)\n",
    "    x_axis = [1 / k ** 2 for k in n_range]\n",
    "    regression_x = [1 / k ** 2 for k in n_range]\n",
    "    \n",
    "    \n",
    "    utils.make_plot(ax_abs, abs_error_pole, [1 / k for k in n_range], col=col, label=rf'$\\beta$={beta}')\n",
    "    utils.make_plot(\n",
    "        ax_abs, abs_error_schild, [1 / k for k in n_range], col=col, label=rf'$\\beta$={beta}',\n",
    "        xlabel = r'1 / $n$')\n",
    "plt.show()"
   ]
  },
  {
   "cell_type": "code",
   "execution_count": null,
   "metadata": {},
   "outputs": [],
   "source": []
  }
 ],
 "metadata": {
  "kernelspec": {
   "display_name": "Python 3",
   "language": "python",
   "name": "python3"
  },
  "language_info": {
   "codemirror_mode": {
    "name": "ipython",
    "version": 3
   },
   "file_extension": ".py",
   "mimetype": "text/x-python",
   "name": "python",
   "nbconvert_exporter": "python",
   "pygments_lexer": "ipython3",
   "version": "3.7.7"
  }
 },
 "nbformat": 4,
 "nbformat_minor": 4
}
