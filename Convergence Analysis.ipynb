{
 "cells": [
  {
   "cell_type": "code",
   "execution_count": 1,
   "metadata": {},
   "outputs": [],
   "source": [
    "% matplotlib\n",
    "import geomstats.backend as gs\n",
    "import utils"
   ]
  },
  {
   "cell_type": "code",
   "execution_count": 2,
   "metadata": {},
   "outputs": [],
   "source": [
    "from geomstats.geometry.hypersphere import Hypersphere\n",
    "\n",
    "sphere = Hypersphere(2)\n",
    "point = sphere.random_uniform()\n",
    "\n",
    "tan_a, tan_b = utils.random_orthonormal_sphere(point)"
   ]
  },
  {
   "cell_type": "code",
   "execution_count": 3,
   "metadata": {},
   "outputs": [],
   "source": [
    "n_numbers = 20\n",
    "n_range = [int(k) for k in logspace(1, 2.5, n_numbers)]\n",
    "for alpha, col in zip([1, 1.5, 2], ['r', 'b', 'g']):\n",
    "    abs_error = []\n",
    "    longitudinal_error = []\n",
    "    for n_steps in n_range:\n",
    "        ladder = metric.ladder_parallel_transport(\n",
    "            tan_a / n_steps ** alpha, tan_b, point, n_ladders=n_steps, return_geodesics=False, scheme='schild')\n",
    "        transported = ladder['transported_tangent_vec'] * n_steps ** alpha\n",
    "        abs_error.append(gs.linalg.norm(transported - exact_transport, axis=1))\n",
    "        longitudinal_error.append(\n",
    "            metric.inner_product(transported - exact_transport, exact_transport_tan_b))\n",
    "    \n",
    "    utils.make_plot(abs_error, [1 / k for k in n_range])"
   ]
  },
  {
   "cell_type": "code",
   "execution_count": 4,
   "metadata": {},
   "outputs": [],
   "source": [
    "print('yo')"
   ]
  },
  {
   "cell_type": "code",
   "execution_count": null,
   "metadata": {},
   "outputs": [],
   "source": []
  }
 ],
 "metadata": {
  "kernelspec": {
   "display_name": "Python 3",
   "language": "python",
   "name": "python3"
  }
 },
 "nbformat": 4,
 "nbformat_minor": 4
}
